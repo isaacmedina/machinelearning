{
  "nbformat": 4,
  "nbformat_minor": 0,
  "metadata": {
    "colab": {
      "provenance": [],
      "authorship_tag": "ABX9TyO40rklptbIiINz5mUyLlLP",
      "include_colab_link": true
    },
    "kernelspec": {
      "name": "python3",
      "display_name": "Python 3"
    },
    "language_info": {
      "name": "python"
    }
  },
  "cells": [
    {
      "cell_type": "markdown",
      "metadata": {
        "id": "view-in-github",
        "colab_type": "text"
      },
      "source": [
        "<a href=\"https://colab.research.google.com/github/isaacmedina/machinelearning/blob/main/taller1.ipynb\" target=\"_parent\"><img src=\"https://colab.research.google.com/assets/colab-badge.svg\" alt=\"Open In Colab\"/></a>"
      ]
    },
    {
      "cell_type": "markdown",
      "source": [
        "#Taller 1 - Machine Learning"
      ],
      "metadata": {
        "id": "W1rcRQFezshv"
      }
    },
    {
      "cell_type": "markdown",
      "source": [
        "Ejemplo: estadística descriptiva básica con pandas, numpy y scipy"
      ],
      "metadata": {
        "id": "CaKRh7du04xg"
      }
    },
    {
      "cell_type": "code",
      "source": [
        "import pandas as pd\n",
        "import numpy as np\n",
        "from scipy import stats\n",
        "import matplotlib.pyplot as plt"
      ],
      "metadata": {
        "id": "RSV5RWUbz9uB"
      },
      "execution_count": 1,
      "outputs": []
    },
    {
      "cell_type": "markdown",
      "source": [
        "#1. Creamos un DataFrame sencillo"
      ],
      "metadata": {
        "id": "gGCJGBMV1Dh9"
      }
    },
    {
      "cell_type": "code",
      "source": [
        "data = {\n",
        "    \"edad\":    [25, 32, 47, 51, 38, 29, 41, 33, 27, 30],\n",
        "    \"ingreso\": [500, 620, 850, 900, 700, 520, 780, 610, 540, 590],\n",
        "    \"sector\":  [\"TI\", \"Salud\", \"Educación\", \"Finanzas\", \"TI\",\n",
        "                \"Salud\", \"TI\", \"Educación\", \"Salud\", \"Finanzas\"],\n",
        "}\n",
        "df = pd.DataFrame(data)\n",
        "print(\"\\n=== Datos crudos ===\")\n",
        "print(df)"
      ],
      "metadata": {
        "colab": {
          "base_uri": "https://localhost:8080/"
        },
        "id": "oSMHdVhA1GhJ",
        "outputId": "0fb6922b-57a3-471a-b12e-83b70af17c9e"
      },
      "execution_count": 2,
      "outputs": [
        {
          "output_type": "stream",
          "name": "stdout",
          "text": [
            "\n",
            "=== Datos crudos ===\n",
            "   edad  ingreso     sector\n",
            "0    25      500         TI\n",
            "1    32      620      Salud\n",
            "2    47      850  Educación\n",
            "3    51      900   Finanzas\n",
            "4    38      700         TI\n",
            "5    29      520      Salud\n",
            "6    41      780         TI\n",
            "7    33      610  Educación\n",
            "8    27      540      Salud\n",
            "9    30      590   Finanzas\n"
          ]
        }
      ]
    },
    {
      "cell_type": "markdown",
      "source": [
        "#2. Descripción rápida de pandas"
      ],
      "metadata": {
        "id": "jG2jN4PJ1K5e"
      }
    },
    {
      "cell_type": "code",
      "source": [
        "print(\"\\n=== df.describe() ===\")\n",
        "print(df.describe().round(2))"
      ],
      "metadata": {
        "colab": {
          "base_uri": "https://localhost:8080/"
        },
        "id": "TFUtX4bu1NVI",
        "outputId": "13eb3029-0ccf-4967-86af-b5d17f99bc45"
      },
      "execution_count": 3,
      "outputs": [
        {
          "output_type": "stream",
          "name": "stdout",
          "text": [
            "\n",
            "=== df.describe() ===\n",
            "        edad  ingreso\n",
            "count  10.00    10.00\n",
            "mean   35.30   661.00\n",
            "std     8.71   140.75\n",
            "min    25.00   500.00\n",
            "25%    29.25   552.50\n",
            "50%    32.50   615.00\n",
            "75%    40.25   760.00\n",
            "max    51.00   900.00\n"
          ]
        }
      ]
    },
    {
      "cell_type": "markdown",
      "source": [
        "#3. Métricas adicionales manuales"
      ],
      "metadata": {
        "id": "TuIRzozL1SFP"
      }
    },
    {
      "cell_type": "code",
      "source": [
        "media_ing = df[\"ingreso\"].mean()\n",
        "mediana_ing = df[\"ingreso\"].median()\n",
        "moda_ing = df[\"ingreso\"].mode()[0]\n",
        "iqr_ing = np.percentile(df[\"ingreso\"], 75) - np.percentile(df[\"ingreso\"], 25)\n",
        "asimetria_ing = stats.skew(df[\"ingreso\"])\n",
        "curtosis_ing = stats.kurtosis(df[\"ingreso\"])\n",
        "print(\"\\n=== Métricas personalizadas para 'ingreso' ===\")\n",
        "print(f\"Media      : {media_ing:.2f}\")\n",
        "print(f\"Mediana    : {mediana_ing:.2f}\")\n",
        "print(f\"Moda       : {moda_ing:.2f}\")\n",
        "print(f\"IQR        : {iqr_ing:.2f}\")\n",
        "print(f\"Asimetría  : {asimetria_ing:.3f}\")\n",
        "print(f\"Curtosis   : {curtosis_ing:.3f}\")"
      ],
      "metadata": {
        "colab": {
          "base_uri": "https://localhost:8080/"
        },
        "id": "LmGcK67A1Uer",
        "outputId": "7a42b2e9-4232-4e68-d279-5ce1204a39d8"
      },
      "execution_count": 4,
      "outputs": [
        {
          "output_type": "stream",
          "name": "stdout",
          "text": [
            "\n",
            "=== Métricas personalizadas para 'ingreso' ===\n",
            "Media      : 661.00\n",
            "Mediana    : 615.00\n",
            "Moda       : 500.00\n",
            "IQR        : 207.50\n",
            "Asimetría  : 0.539\n",
            "Curtosis   : -1.094\n"
          ]
        }
      ]
    },
    {
      "cell_type": "markdown",
      "source": [
        "#4. Estadística descriptiva por grupo"
      ],
      "metadata": {
        "id": "vYLSPU131Yd8"
      }
    },
    {
      "cell_type": "code",
      "source": [
        "resumen_sector = (\n",
        "    df.groupby(\"sector\")[\"ingreso\"]\n",
        "      .agg(\n",
        "          conteo=\"count\",\n",
        "          total=\"sum\",\n",
        "          media=\"mean\",\n",
        "          mediana=\"median\",\n",
        "          desvest=\"std\",\n",
        "      )\n",
        "      .sort_values(\"total\", ascending=False)\n",
        "      .round(2)\n",
        ")\n",
        "print(\"\\n=== Resumen por sector ===\")\n",
        "print(resumen_sector)"
      ],
      "metadata": {
        "colab": {
          "base_uri": "https://localhost:8080/"
        },
        "id": "Le0yMq3H1bB-",
        "outputId": "675db4be-ed31-4f7d-cdad-0791a0cf0f34"
      },
      "execution_count": 5,
      "outputs": [
        {
          "output_type": "stream",
          "name": "stdout",
          "text": [
            "\n",
            "=== Resumen por sector ===\n",
            "           conteo  total  media  mediana  desvest\n",
            "sector                                           \n",
            "TI              3   1980  660.0    700.0   144.22\n",
            "Salud           3   1680  560.0    540.0    52.92\n",
            "Finanzas        2   1490  745.0    745.0   219.20\n",
            "Educación       2   1460  730.0    730.0   169.71\n"
          ]
        }
      ]
    },
    {
      "cell_type": "markdown",
      "source": [
        "# 5. Visualización rápida"
      ],
      "metadata": {
        "id": "rEB8GvFH2OF-"
      }
    },
    {
      "cell_type": "code",
      "source": [
        "df[\"ingreso\"].hist(bins=5)\n",
        "plt.title(\"Distribución de ingreso\")\n",
        "plt.xlabel(\"Ingreso (USD)\")\n",
        "plt.ylabel(\"Frecuencia\")\n",
        "plt.tight_layout()\n",
        "plt.show()"
      ],
      "metadata": {
        "colab": {
          "base_uri": "https://localhost:8080/",
          "height": 487
        },
        "id": "hyAAsGla2Reh",
        "outputId": "c9583985-b332-4e08-d5a4-66dfe3c7efd5"
      },
      "execution_count": 6,
      "outputs": [
        {
          "output_type": "display_data",
          "data": {
            "text/plain": [
              "<Figure size 640x480 with 1 Axes>"
            ],
            "image/png": "[encoded data removed]"
          },
          "metadata": {}
        }
      ]
    }
  ]
}